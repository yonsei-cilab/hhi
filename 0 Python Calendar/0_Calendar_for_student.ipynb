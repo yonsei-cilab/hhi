{
  "nbformat": 4,
  "nbformat_minor": 0,
  "metadata": {
    "colab": {
      "name": "0_Calendar_for_student.ipynb",
      "provenance": [],
      "collapsed_sections": []
    },
    "kernelspec": {
      "name": "python3",
      "display_name": "Python 3"
    }
  },
  "cells": [
    {
      "cell_type": "code",
      "metadata": {
        "id": "9KvGSvSZk6bR",
        "colab_type": "code",
        "colab": {}
      },
      "source": [
        "# Calendar Program Functions\n",
        "\n",
        "def leap_year(year):\n",
        "    \"\"\"Return if leap year\"\"\"\n",
        "    flag_leap_year = False\n",
        "    if (year % 4 == 0) :\n",
        "        flag_leap_year = True\n",
        "    if (year % 100 == 0):\n",
        "        flag_leap_year = False\n",
        "    if (year % 400 == 0):\n",
        "        flag_leap_year = True\n",
        "    return flag_leap_year\n",
        "  \n",
        "print(leap_year(2020))\n"
      ],
      "execution_count": 0,
      "outputs": []
    },
    {
      "cell_type": "code",
      "metadata": {
        "id": "wp1jlJgZmcyj",
        "colab_type": "code",
        "colab": {}
      },
      "source": [
        "def Which_day_is_the_first_day_of_the_year(year):\n",
        "    \"\"\"Return the day of the first day of the year\"\"\"\n",
        " \n",
        "    # ***********************************\n",
        "    #\n",
        "    #     Fill in the blank\n",
        "    #\n",
        "    # ***********************************\n",
        "  \n",
        "\n",
        "print(Which_day_is_the_first_day_of_the_year(2019))\n",
        "  "
      ],
      "execution_count": 0,
      "outputs": []
    },
    {
      "cell_type": "code",
      "metadata": {
        "id": "yBuDfBf-nFGv",
        "colab_type": "code",
        "colab": {}
      },
      "source": [
        "def Which_day_is_the_first_day_of_the_month(year, month):\n",
        "    \"\"\"Return the day of the first day of the month from the first day of the year\"\"\"\n",
        "    days_in_month = (31, 28, 31, 30, 31, 30, 31, 31, 30, 31, 30, 31)\n",
        "    day = 0\n",
        "\n",
        "    for i in range(month - 1):\n",
        "        day += days_in_month[i]\n",
        "        if (i == 1) and leap_year(year):\n",
        "            day += 1 # 윤년인 경우 2월에 1일 추가\n",
        "\n",
        "    day = day % 7\n",
        "\n",
        "    return day\n",
        "  \n",
        "\n",
        "print(Which_day_is_the_first_day_of_the_month(2019,10))"
      ],
      "execution_count": 0,
      "outputs": []
    },
    {
      "cell_type": "code",
      "metadata": {
        "id": "lq6o8ayyoCMO",
        "colab_type": "code",
        "colab": {}
      },
      "source": [
        "def display_calendar(year, month):\n",
        "    \"\"\"display month and year heading\"\"\"\n",
        "\n",
        "    # initialization\n",
        "    days_in_month = [31, 28, 31, 30, 31, 30, 31, 31, 30, 31, 30, 31]\n",
        "    month_names = ('January', 'February', 'March', 'April', 'May', 'June',\n",
        "                   'July', 'August', 'September', 'October', 'November',\n",
        "                   'December')\n",
        "\n",
        "    # get name of month\n",
        "    month_name = month_names[month - 1]\n",
        "\n",
        "    if leap_year(year):\n",
        "        days_in_month[1] = 29  #February\n",
        "\n",
        "    first_day_of_current_year = Which_day_is_the_first_day_of_the_year(year)\n",
        "    first_day_of_current_month = Which_day_is_the_first_day_of_the_month(year, month)\n",
        "\n",
        "    day_of_the_week = first_day_of_current_year + first_day_of_current_month  # 년도 + 달\n",
        "    day_of_the_week = day_of_the_week % 7\n",
        "\n",
        "    print('\\n', ' ' + month_name, year)\n",
        "    print(' SUN MON TUE WED THU FRI SAT')\n",
        "\n",
        "    # display rows of dates\n",
        "    starting_col = day_of_the_week\n",
        "\n",
        "    current_col = 0\n",
        "    blank_column = '    '\n",
        "\n",
        "    while current_col < starting_col:\n",
        "        print(blank_column, end='')\n",
        "        current_col += 1\n",
        "\n",
        "    current_date = 1\n",
        "\n",
        "    while current_date <= days_in_month[month-1]:\n",
        "        print('%4d'%(current_date), end='')\n",
        "\n",
        "        current_col += 1\n",
        "        current_date += 1\n",
        "\n",
        "        if current_col % 7 == 0:\n",
        "            print()\n",
        "\n",
        "    print('\\n')\n",
        "    \n",
        "    \n",
        "display_calendar(2019,10)"
      ],
      "execution_count": 0,
      "outputs": []
    },
    {
      "cell_type": "code",
      "metadata": {
        "id": "9iuD_1gCsDIC",
        "colab_type": "code",
        "colab": {}
      },
      "source": [
        "# program greeting\n",
        "print('This program will display a calendar.')\n",
        "\n",
        "# get year\n",
        "year = int(input('Enter year (yyyy): '))\n",
        "# get month\n",
        "month = int(input('Enter month 1-12: '))\n",
        "\n",
        "# display month and year heading\n",
        "print(year,month)\n",
        "display_calendar(year, month)"
      ],
      "execution_count": 0,
      "outputs": []
    }
  ]
}