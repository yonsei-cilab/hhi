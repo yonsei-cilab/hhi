{
  "nbformat": 4,
  "nbformat_minor": 0,
  "metadata": {
    "colab": {
      "name": "1_Numpy_BJ_for_student.ipynb",
      "provenance": [],
      "collapsed_sections": []
    },
    "kernelspec": {
      "name": "python3",
      "display_name": "Python 3"
    }
  },
  "cells": [
    {
      "cell_type": "code",
      "metadata": {
        "id": "TXa09M8bRENh",
        "colab_type": "code",
        "colab": {}
      },
      "source": [
        "import numpy as np\n",
        "import matplotlib.pyplot as plt\n",
        "  \n",
        "  \n",
        "# ******************************************************\n",
        "#                Upload data\n",
        "# ******************************************************\n",
        "from google.colab import files\n",
        "uploaded = files.upload()\n",
        "print(uploaded.keys())\n",
        "\n",
        "for fn in uploaded.keys():\n",
        "  print('User uploaded file \"{name}\" with length {length} bytes'.format(\n",
        "      name=fn, length=len(uploaded[fn])))\n",
        "  \n",
        "bj = np.load('BJ.npz')\n",
        "BJ = bj['BJ']\n",
        "\n"
      ],
      "execution_count": 0,
      "outputs": []
    },
    {
      "cell_type": "code",
      "metadata": {
        "id": "u09T75CoYYsB",
        "colab_type": "code",
        "colab": {}
      },
      "source": [
        "print(BJ)"
      ],
      "execution_count": 0,
      "outputs": []
    },
    {
      "cell_type": "code",
      "metadata": {
        "id": "fzgChxfaNaGr",
        "colab_type": "code",
        "colab": {}
      },
      "source": [
        "# data processing\n",
        "    # ***********************************\n",
        "    #\n",
        "    #     Fill in the blank\n",
        "    #\n",
        "    # ***********************************\n",
        "\n",
        "plt.plot(range(timenum), y)\n",
        "plt.show()\n"
      ],
      "execution_count": 0,
      "outputs": []
    }
  ]
}