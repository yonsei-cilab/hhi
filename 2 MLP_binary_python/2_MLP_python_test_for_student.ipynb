{
  "nbformat": 4,
  "nbformat_minor": 0,
  "metadata": {
    "colab": {
      "name": "2_MLP_python_test_for_student.ipynb",
      "provenance": [],
      "collapsed_sections": []
    },
    "kernelspec": {
      "name": "python3",
      "display_name": "Python 3"
    },
    "accelerator": "GPU"
  },
  "cells": [
    {
      "cell_type": "code",
      "metadata": {
        "id": "ERwPzMnjoq5f",
        "colab_type": "code",
        "colab": {}
      },
      "source": [
        "import numpy as np\n",
        "import matplotlib.pyplot as plt\n",
        "\n",
        "\n",
        "# ******************************************************\n",
        "#                 NN forward pass\n",
        "# ******************************************************\n",
        "\n",
        "def NN(X, W1, W2, W3):\n",
        "    # datanum,dim=X.shape\n",
        "    # X is row-wise samples\n",
        "\n",
        "    v1 = np.matmul(W1, X.T)\n",
        "    v1 = v1.T\n",
        "    Y1 = Sigmoid(v1)\n",
        "\n",
        "    # ***********************************\n",
        "    #\n",
        "    #     Fill in the blank\n",
        "    #\n",
        "    # ***********************************\n",
        "\n",
        "    v3 = np.matmul(W3, Y2.T)\n",
        "    v3 = v3.T\n",
        "    Y = Sigmoid(v3)\n",
        "\n",
        "    return Y\n",
        "\n",
        "\n",
        "# ******************************************************\n",
        "#                 NN Logistic sigmoid\n",
        "# ******************************************************\n",
        "def Sigmoid(x):\n",
        "    # return 1.0 / (1.0 + np.exp(-x))\n",
        "    return np.exp(-np.logaddexp(0, -x))\n",
        "\n",
        "  \n",
        "  \n",
        "  \n"
      ],
      "execution_count": 0,
      "outputs": []
    },
    {
      "cell_type": "code",
      "metadata": {
        "id": "nUKoGySU21iE",
        "colab_type": "code",
        "colab": {}
      },
      "source": [
        "# ******************************************************\n",
        "#                Upload data\n",
        "# ******************************************************\n",
        "from google.colab import files\n",
        "uploaded = files.upload()\n",
        "print(uploaded.keys())\n",
        "\n",
        "for fn in uploaded.keys():\n",
        "  print('User uploaded file \"{name}\" with length {length} bytes'.format(\n",
        "      name=fn, length=len(uploaded[fn])))\n",
        "    \n",
        "data = np.load('data.npz')\n",
        "X = data['X']\n",
        "Y = data['Y']\n",
        "datanum,inputdim=X.shape\n",
        "print('Number of input data:%d, Input dim:%d' %(datanum, inputdim))\n",
        " "
      ],
      "execution_count": 0,
      "outputs": []
    },
    {
      "cell_type": "code",
      "metadata": {
        "id": "WILrk6K7-Z4Z",
        "colab_type": "code",
        "colab": {}
      },
      "source": [
        "# ******************************************************\n",
        "#                Upload weight\n",
        "# ******************************************************\n",
        "\n",
        "uploaded = files.upload()\n",
        "print(uploaded.keys())\n",
        "\n",
        "for fn in uploaded.keys():\n",
        "  print('User uploaded file \"{name}\" with length {length} bytes'.format(\n",
        "      name=fn, length=len(uploaded[fn])))\n",
        "    \n",
        "W = np.load('weight.npz')\n",
        "W1 = W['W1']\n",
        "W2 = W['W2']\n",
        "W3 = W['W3']\n",
        "\n",
        "hidden1,_ = W1.shape\n",
        "hidden2,_ = W2.shape\n",
        "outputdim,_ = W3.shape\n",
        "print('Number of nodes in hidden 1:%d, hidden 2: %d, Output dim:%d'\n",
        "      %(hidden1, hidden2, outputdim))"
      ],
      "execution_count": 0,
      "outputs": []
    },
    {
      "cell_type": "code",
      "metadata": {
        "id": "sIjJiDd-yN-O",
        "colab_type": "code",
        "colab": {}
      },
      "source": [
        "# ******************************************************\n",
        "#                Test MLP\n",
        "# ******************************************************\n",
        "\n",
        "def plotNN2D(X,Y,W1,W2,W3):\n",
        "\n",
        "    C1 = np.where(Y== 0)[0]\n",
        "    C2 = np.where(Y== 1)[0]\n",
        "    C = (C1,C2)\n",
        "    colors = (\"red\", \"green\")\n",
        "\n",
        "    for c,color in zip(C, colors):\n",
        "        plt.scatter(X[c,0], X[c,1], alpha=1.0, c=color)\n",
        "\n",
        "   \n",
        "    step = 0.025\n",
        "    x_axis = np.arange(0.0, 1.0+step, step)\n",
        "    y_axis = np.arange(0.0, 1.0+step, step)\n",
        "    X_mesh, Y_mesh = np.meshgrid(x_axis, y_axis)\n",
        "    Z_mesh = np.zeros(X_mesh.shape)\n",
        "\n",
        "\n",
        "    for x in range(X_mesh.shape[0]):\n",
        "        for y in range(Y_mesh.shape[0]):\n",
        "            input = np.array([X_mesh[x][y], Y_mesh[x][y], 1],ndmin=2)\n",
        "            Z_mesh[x][y] =  NN(input,W1,W2,W3)\n",
        "\n",
        "    plt.contour(x_axis, y_axis, Z_mesh,([0.49, 0.51]))\n",
        "    plt.show()\n",
        "\n",
        "\n",
        "\n",
        "#   ***             Plot\n",
        "plotNN2D(X,Y,W1,W2,W3)"
      ],
      "execution_count": 0,
      "outputs": []
    }
  ]
}